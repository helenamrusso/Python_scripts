{
 "cells": [
  {
   "cell_type": "code",
   "execution_count": 4,
   "metadata": {},
   "outputs": [],
   "source": [
    "features = \"/Users/helenarusso/Downloads/sirius.mgf\"\n",
    "output_file = '/Users/helenarusso/Downloads/sirius_filtered.mgf'\n",
    "\n",
    "temp = [] # List to store the data temporarilly \n",
    "\n",
    "with open(features, 'r') as input_file:\n",
    "    with open(output_file, 'a') as output_f:\n",
    "        for line in input_file:\n",
    "            if not line.startswith('END IONS'):\n",
    "                temp.append(line)\n",
    "\n",
    "            else:\n",
    "                temp.append(line)\n",
    "                if not 'SPECTYPE=CORRELATED MS\\n' in temp:\n",
    "                    for line in temp:\n",
    "                        print(line, file=output_f, end='')\n",
    "#                         print(line)\n",
    "                temp = []\n"
   ]
  },
  {
   "cell_type": "code",
   "execution_count": null,
   "metadata": {},
   "outputs": [],
   "source": []
  }
 ],
 "metadata": {
  "kernelspec": {
   "display_name": "Python 3",
   "language": "python",
   "name": "python3"
  },
  "language_info": {
   "codemirror_mode": {
    "name": "ipython",
    "version": 3
   },
   "file_extension": ".py",
   "mimetype": "text/x-python",
   "name": "python",
   "nbconvert_exporter": "python",
   "pygments_lexer": "ipython3",
   "version": "3.7.6"
  }
 },
 "nbformat": 4,
 "nbformat_minor": 5
}
